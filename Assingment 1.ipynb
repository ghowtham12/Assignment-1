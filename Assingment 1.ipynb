{
 "cells": [
  {
   "cell_type": "code",
   "execution_count": 5,
   "id": "f1d06169",
   "metadata": {},
   "outputs": [
    {
     "name": "stdout",
     "output_type": "stream",
     "text": [
      "Enter your emailid :ghow@gmail.com\n",
      "Enter your password :Ghow#98\n",
      "Registered sucessfully\n",
      "Enter your username :ghow@gmail.com\n",
      "Enter your password :Ghow#98\n",
      "logedin sucessfully\n"
     ]
    }
   ],
   "source": [
    "import re \n",
    "import sys\n",
    "\n",
    "regex = r'\\b[A-Za-z._%+-]+@[A-Za-z0-9.-]+\\.[A-Z|a-z]{2,}\\b'\n",
    "reg = \"^(?=.*[a-z])(?=.*[A-Z])(?=.*\\d)(?=.*[@$!%*#?&])[A-Za-z\\d@$!#%*?&]{5,16}$\"\n",
    "\n",
    "def register(email,password):\n",
    "    if (re.fullmatch(regex,email))and (re.fullmatch(reg,password)):\n",
    "        dict1['username'].append(email)\n",
    "        dict1['password'].append(password)\n",
    "        print('Registered sucessfully')\n",
    "    else:\n",
    "        print('your emailid and password is invalid')\n",
    "        sys.exit()\n",
    "if __name__ =='__main__':      \n",
    "    email = str(input('Enter your emailid :'))\n",
    "    password = str(input('Enter your password :'))\n",
    "    dict1 = {'username':[],'password':[]}\n",
    "    register(email,password)\n",
    "\n",
    "import json\n",
    "out_file = open('myfile.json', 'w')\n",
    "json.dump(dict1, out_file, indent = 6) \n",
    "out_file.close()\n",
    "f = open('myfile.json')\n",
    "data = json.loads(f.read())\n",
    "\n",
    "def login(user_name,pass_word):\n",
    "     if data['username'][0]==user_name and data['password'][0]==pass_word:\n",
    "             print('logedin sucessfully')\n",
    "     if data['username'][0]==user_name and data['password'][0]!=pass_word:\n",
    "               print('Click forgetpassword')    \n",
    "               forgetpassword(user_name,pass_word)\n",
    "     if data['username'][0]!=user_name :\n",
    "        print('Your user name is not found go back to registration')\n",
    "def forgetpassword(user_name,pass_word):\n",
    "            print('Your password is :',data['password'][0])\n",
    "user_name=str(input('Enter your username :'))\n",
    "pass_word=str(input('Enter your password :'))\n",
    "login(user_name,pass_word)         \n",
    "\n",
    " "
   ]
  },
  {
   "cell_type": "code",
   "execution_count": null,
   "id": "4c21a42c",
   "metadata": {},
   "outputs": [],
   "source": []
  },
  {
   "cell_type": "code",
   "execution_count": null,
   "id": "0bc382ea",
   "metadata": {},
   "outputs": [],
   "source": []
  }
 ],
 "metadata": {
  "kernelspec": {
   "display_name": "Python 3 (ipykernel)",
   "language": "python",
   "name": "python3"
  },
  "language_info": {
   "codemirror_mode": {
    "name": "ipython",
    "version": 3
   },
   "file_extension": ".py",
   "mimetype": "text/x-python",
   "name": "python",
   "nbconvert_exporter": "python",
   "pygments_lexer": "ipython3",
   "version": "3.9.12"
  }
 },
 "nbformat": 4,
 "nbformat_minor": 5
}
